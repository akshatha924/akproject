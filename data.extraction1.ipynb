{
 "cells": [
  {
   "cell_type": "markdown",
   "id": "daa28095",
   "metadata": {},
   "source": [
    "## Data Extraction"
   ]
  },
  {
   "cell_type": "code",
   "execution_count": 16,
   "id": "f680ab0a",
   "metadata": {},
   "outputs": [],
   "source": [
    "import zipfile\n",
    "import pandas as pd\n",
    "import numpy as np"
   ]
  },
  {
   "cell_type": "code",
   "execution_count": 17,
   "id": "d3081055",
   "metadata": {},
   "outputs": [],
   "source": [
    "path_to_zip_file = './Data/archive.zip'"
   ]
  },
  {
   "cell_type": "code",
   "execution_count": 20,
   "id": "6eefdeba",
   "metadata": {},
   "outputs": [],
   "source": [
    "def file_extract_from_zip(zip_path):\n",
    "    \n",
    "    csv_file_list = []\n",
    "    json_file_list = []\n",
    "    \n",
    "    with zipfile.ZipFile(zip_path, mode=\"r\") as archive:\n",
    "        for filename in archive.namelist():\n",
    "            file_extension = filename[filename.index('.')+1:]\n",
    "            if file_extension == 'csv':\n",
    "                df = pd.read_csv(archive.open(filename), encoding='latin-1')\n",
    "                df['region'] = filename[0:2]\n",
    "                csv_file_list.append(df)\n",
    "            elif file_extension == 'json':\n",
    "                df_region = pd.read_json(archive.open(filename))\n",
    "                df_id = pd.read_json((df_region)['items'].to_json(), orient='index')['id']\n",
    "                df_category_title = pd.read_json(pd.read_json(df_region['items'].to_json(), orient='index')['snippet'].to_json(), orient='index')['title']\n",
    "                data = {'category_id' : df_id, 'category_title': df_category_title}\n",
    "                df = pd.concat(data, axis=1)\n",
    "                df['region'] = filename[0:2]\n",
    "                json_file_list.append(df)\n",
    "    return pd.concat(csv_file_list, ignore_index=True), pd.concat(json_file_list, ignore_index=True)"
   ]
  },
  {
   "cell_type": "code",
   "execution_count": 21,
   "id": "0d73cecb",
   "metadata": {},
   "outputs": [],
   "source": [
    "df_all_region, df_all_category = file_extract_from_zip(path_to_zip_file)"
   ]
  },
  {
   "cell_type": "markdown",
   "id": "cfa7f63b",
   "metadata": {},
   "source": [
    "## Combining Data"
   ]
  },
  {
   "cell_type": "code",
   "execution_count": 5,
   "id": "fc19495a",
   "metadata": {},
   "outputs": [],
   "source": [
    "combined_df = pd.merge(df_all_region, df_all_category, on=['region', 'category_id'], how='left')"
   ]
  },
  {
   "cell_type": "code",
   "execution_count": 6,
   "id": "714c08f9",
   "metadata": {},
   "outputs": [
    {
     "name": "stdout",
     "output_type": "stream",
     "text": [
      "<class 'pandas.core.frame.DataFrame'>\n",
      "Int64Index: 375942 entries, 0 to 375941\n",
      "Data columns (total 18 columns):\n",
      " #   Column                  Non-Null Count   Dtype \n",
      "---  ------                  --------------   ----- \n",
      " 0   video_id                375942 non-null  object\n",
      " 1   trending_date           375942 non-null  object\n",
      " 2   title                   375942 non-null  object\n",
      " 3   channel_title           375942 non-null  object\n",
      " 4   category_id             375942 non-null  int64 \n",
      " 5   publish_time            375942 non-null  object\n",
      " 6   tags                    375942 non-null  object\n",
      " 7   views                   375942 non-null  int64 \n",
      " 8   likes                   375942 non-null  int64 \n",
      " 9   dislikes                375942 non-null  int64 \n",
      " 10  comment_count           375942 non-null  int64 \n",
      " 11  thumbnail_link          375942 non-null  object\n",
      " 12  comments_disabled       375942 non-null  bool  \n",
      " 13  ratings_disabled        375942 non-null  bool  \n",
      " 14  video_error_or_removed  375942 non-null  bool  \n",
      " 15  description             356464 non-null  object\n",
      " 16  region                  375942 non-null  object\n",
      " 17  category_title          373204 non-null  object\n",
      "dtypes: bool(3), int64(5), object(10)\n",
      "memory usage: 47.0+ MB\n"
     ]
    }
   ],
   "source": [
    "combined_df.info()"
   ]
  },
  {
   "cell_type": "code",
   "execution_count": 7,
   "id": "eef0c069",
   "metadata": {},
   "outputs": [
    {
     "data": {
      "text/plain": [
       "29    2738\n",
       "Name: category_id, dtype: int64"
      ]
     },
     "execution_count": 7,
     "metadata": {},
     "output_type": "execute_result"
    }
   ],
   "source": [
    "combined_df[pd.isnull(combined_df['category_title'])]['category_id'].value_counts()"
   ]
  },
  {
   "cell_type": "code",
   "execution_count": 8,
   "id": "fd0a22af",
   "metadata": {},
   "outputs": [
    {
     "data": {
      "text/html": [
       "<div>\n",
       "<style scoped>\n",
       "    .dataframe tbody tr th:only-of-type {\n",
       "        vertical-align: middle;\n",
       "    }\n",
       "\n",
       "    .dataframe tbody tr th {\n",
       "        vertical-align: top;\n",
       "    }\n",
       "\n",
       "    .dataframe thead th {\n",
       "        text-align: right;\n",
       "    }\n",
       "</style>\n",
       "<table border=\"1\" class=\"dataframe\">\n",
       "  <thead>\n",
       "    <tr style=\"text-align: right;\">\n",
       "      <th></th>\n",
       "      <th>category_id</th>\n",
       "      <th>category_title</th>\n",
       "      <th>region</th>\n",
       "    </tr>\n",
       "  </thead>\n",
       "  <tbody>\n",
       "    <tr>\n",
       "      <th>295</th>\n",
       "      <td>29</td>\n",
       "      <td>Nonprofits &amp; Activism</td>\n",
       "      <td>US</td>\n",
       "    </tr>\n",
       "  </tbody>\n",
       "</table>\n",
       "</div>"
      ],
      "text/plain": [
       "     category_id         category_title region\n",
       "295           29  Nonprofits & Activism     US"
      ]
     },
     "execution_count": 8,
     "metadata": {},
     "output_type": "execute_result"
    }
   ],
   "source": [
    "df_all_category[df_all_category['category_id'] == 29]"
   ]
  },
  {
   "cell_type": "code",
   "execution_count": 9,
   "id": "a1b66c9d",
   "metadata": {},
   "outputs": [
    {
     "data": {
      "text/plain": [
       "2738"
      ]
     },
     "execution_count": 9,
     "metadata": {},
     "output_type": "execute_result"
    }
   ],
   "source": [
    "sum(df_all_region[(df_all_region['category_id'] == 29) & (df_all_region['region'] != 'US')]['region'].value_counts())"
   ]
  },
  {
   "cell_type": "code",
   "execution_count": 10,
   "id": "b611d8f2",
   "metadata": {},
   "outputs": [],
   "source": [
    "combined_df_without_null = combined_df[~pd.isnull(combined_df['category_title'])]"
   ]
  },
  {
   "cell_type": "code",
   "execution_count": 11,
   "id": "a6a67c56",
   "metadata": {},
   "outputs": [
    {
     "name": "stdout",
     "output_type": "stream",
     "text": [
      "<class 'pandas.core.frame.DataFrame'>\n",
      "Int64Index: 373204 entries, 0 to 375941\n",
      "Data columns (total 18 columns):\n",
      " #   Column                  Non-Null Count   Dtype \n",
      "---  ------                  --------------   ----- \n",
      " 0   video_id                373204 non-null  object\n",
      " 1   trending_date           373204 non-null  object\n",
      " 2   title                   373204 non-null  object\n",
      " 3   channel_title           373204 non-null  object\n",
      " 4   category_id             373204 non-null  int64 \n",
      " 5   publish_time            373204 non-null  object\n",
      " 6   tags                    373204 non-null  object\n",
      " 7   views                   373204 non-null  int64 \n",
      " 8   likes                   373204 non-null  int64 \n",
      " 9   dislikes                373204 non-null  int64 \n",
      " 10  comment_count           373204 non-null  int64 \n",
      " 11  thumbnail_link          373204 non-null  object\n",
      " 12  comments_disabled       373204 non-null  bool  \n",
      " 13  ratings_disabled        373204 non-null  bool  \n",
      " 14  video_error_or_removed  373204 non-null  bool  \n",
      " 15  description             354021 non-null  object\n",
      " 16  region                  373204 non-null  object\n",
      " 17  category_title          373204 non-null  object\n",
      "dtypes: bool(3), int64(5), object(10)\n",
      "memory usage: 46.6+ MB\n"
     ]
    }
   ],
   "source": [
    "combined_df_without_null.info()"
   ]
  },
  {
   "cell_type": "markdown",
   "id": "2cf425b0",
   "metadata": {},
   "source": [
    "## Data Cleaning and Transformation"
   ]
  },
  {
   "cell_type": "code",
   "execution_count": 13,
   "id": "057acc35",
   "metadata": {},
   "outputs": [],
   "source": [
    "columns_to_drop = ['title', 'tags', 'thumbnail_link', 'description']"
   ]
  },
  {
   "cell_type": "code",
   "execution_count": 14,
   "id": "147a7669",
   "metadata": {},
   "outputs": [],
   "source": [
    "combined_df_clean = combined_df_without_null.drop(columns=columns_to_drop)"
   ]
  },
  {
   "cell_type": "code",
   "execution_count": 15,
   "id": "2a566aac",
   "metadata": {},
   "outputs": [],
   "source": [
    "combined_df_clean.to_csv('./Data/Combined_DF.csv', index=False)"
   ]
  }
 ],
 "metadata": {
  "kernelspec": {
   "display_name": "Python 3 (ipykernel)",
   "language": "python",
   "name": "python3"
  },
  "language_info": {
   "codemirror_mode": {
    "name": "ipython",
    "version": 3
   },
   "file_extension": ".py",
   "mimetype": "text/x-python",
   "name": "python",
   "nbconvert_exporter": "python",
   "pygments_lexer": "ipython3",
   "version": "3.9.10"
  }
 },
 "nbformat": 4,
 "nbformat_minor": 5
}
